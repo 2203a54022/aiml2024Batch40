{
  "nbformat": 4,
  "nbformat_minor": 0,
  "metadata": {
    "colab": {
      "provenance": []
    },
    "kernelspec": {
      "name": "python3",
      "display_name": "Python 3"
    },
    "language_info": {
      "name": "python"
    }
  },
  "cells": [
    {
      "cell_type": "code",
      "execution_count": null,
      "metadata": {
        "colab": {
          "base_uri": "https://localhost:8080/"
        },
        "id": "e-rlyOZVqu_i",
        "outputId": "f9360979-7f8d-4cfd-cb65-030e220bc1b5"
      },
      "outputs": [
        {
          "output_type": "stream",
          "name": "stdout",
          "text": [
            "The adjacency List representing the graph is:\n",
            "{0: [1, 3], 1: [0, 2, 3], 2: [4, 1, 5], 3: [4, 0, 1], 4: [2, 3, 5], 5: [4, 2], 6: []}\n",
            "BFS traversal of graph with source 0 is:\n",
            "0-->1-->3-->2-->4-->5-->"
          ]
        }
      ],
      "source": [
        "from queue import Queue\n",
        "\n",
        "graph = {0: [1, 3], 1: [0, 2, 3], 2: [4, 1, 5], 3: [4, 0, 1], 4: [2, 3, 5], 5: [4, 2], 6: []}\n",
        "print(\"The adjacency List representing the graph is:\")\n",
        "print(graph)\n",
        "\n",
        "\n",
        "def bfs(graph, source):\n",
        "    Q = Queue()\n",
        "    visited_vertices = set()\n",
        "    Q.put(source)\n",
        "    visited_vertices.update({0})\n",
        "    while not Q.empty():\n",
        "        vertex = Q.get()\n",
        "        print(vertex, end=\"-->\")\n",
        "        for u in graph[vertex]:\n",
        "            if u not in visited_vertices:\n",
        "                Q.put(u)\n",
        "                visited_vertices.update({u})\n",
        "\n",
        "print(\"BFS traversal of graph with source 0 is:\")\n",
        "bfs(graph, 0)"
      ]
    },
    {
      "cell_type": "code",
      "source": [
        "from queue import Queue\n",
        "\n",
        "graph = {5: [2, 5], 1: [0, 2, 3], 2: [4, 1, 5], 3: [4, 0, 1], 4: [2, 3, 5], 5: [4, 2], 6: []}\n",
        "print(\"The adjacency List representing the graph is:\")\n",
        "print(graph)\n",
        "\n",
        "def bfs(graph, source):\n",
        "    Q = Queue()\n",
        "    visited_vertices = set()\n",
        "    Q.put(source)\n",
        "    visited_vertices.update({source})\n",
        "    while not Q.empty():\n",
        "        vertex = Q.get()\n",
        "        print(vertex, end=\"-->\")\n",
        "        if vertex in graph:  # Check if vertex exists in graph\n",
        "            for u in graph[vertex]:\n",
        "                if u not in visited_vertices:\n",
        "                    Q.put(u)\n",
        "                    visited_vertices.update({u})\n",
        "\n",
        "print(\"BFS traversal of graph with source 0 is:\")\n",
        "bfs(graph, 0)\n",
        "\n"
      ],
      "metadata": {
        "id": "8vq-GrPKyKl0",
        "colab": {
          "base_uri": "https://localhost:8080/"
        },
        "outputId": "cc75f204-3953-4af0-c4fe-e6d6ec0d67ba"
      },
      "execution_count": null,
      "outputs": [
        {
          "output_type": "stream",
          "name": "stdout",
          "text": [
            "The adjacency List representing the graph is:\n",
            "{5: [4, 2], 1: [0, 2, 3], 2: [4, 1, 5], 3: [4, 0, 1], 4: [2, 3, 5], 6: []}\n",
            "BFS traversal of graph with source 0 is:\n",
            "0-->"
          ]
        }
      ]
    },
    {
      "cell_type": "code",
      "source": [
        "graph1 = {\n",
        "    'A' : ['B','S'],\n",
        "    'B' : ['A'],\n",
        "    'C' : ['D','E','F','S'],\n",
        "    'D' : ['C'],\n",
        "    'E' : ['C','H'],\n",
        "    'F' : ['C','G'],\n",
        "    'G' : ['F','S'],\n",
        "    'H' : ['E','G'],\n",
        "    'S' : ['A','C','G']\n",
        "}\n",
        "\n",
        "def dfs(graph, node, visited):\n",
        "    if node not in visited:\n",
        "        visited.append(node)\n",
        "        for k in graph[node]:\n",
        "            dfs(graph,k, visited)\n",
        "    return visited\n",
        "\n",
        "visited = dfs(graph1,'D', [])\n",
        "print(visited)"
      ],
      "metadata": {
        "colab": {
          "base_uri": "https://localhost:8080/"
        },
        "id": "8jDp40Bfq15O",
        "outputId": "0d71df4a-673b-4800-f4cf-43981183c294"
      },
      "execution_count": null,
      "outputs": [
        {
          "output_type": "stream",
          "name": "stdout",
          "text": [
            "['D', 'C', 'E', 'H', 'G', 'F', 'S', 'A', 'B']\n"
          ]
        }
      ]
    },
    {
      "cell_type": "code",
      "source": [
        "from collections import defaultdict, deque\n",
        "def bfs(graph, start, end):\n",
        "    queue = deque([(start, [start])])\n",
        "    visited = set([start])\n",
        "    while queue:\n",
        "        (vertex, path) = queue.popleft()\n",
        "        for neighbor in graph[vertex]:\n",
        "            if neighbor == end:\n",
        "                return path + [neighbor]\n",
        "            elif neighbor not in visited:\n",
        "                visited.add(neighbor)\n",
        "                queue.append((neighbor, path + [neighbor]))\n",
        "    return None\n",
        "graph = defaultdict(dict)\n",
        "graph['Trivandrum'] = {'TM': 1800}\n",
        "graph['TM'] = {'YS': 700, 'GOA': 1800}\n",
        "graph['YS'] = {'HYD': 2001}\n",
        "graph['GOA'] = {'NAG': 750}\n",
        "graph['HYD'] = {'WR': 120}\n",
        "graph['NAG'] = {'JH': 780}\n",
        "graph['WR'] = {'BS': 510}\n",
        "graph['JH'] = {'KH': 512}\n",
        "graph['BS'] = {'BBS': 470}\n",
        "graph['BBS'] = {'KH': 300}\n",
        "graph['KH'] = {'HWH': 150}\n",
        "graph['HWH'] = {'Kolkata': 25}\n",
        "graph['Kolkata'] = {}\n",
        "\n",
        "start = 'Trivandrum'\n",
        "end = 'Kolkata'\n",
        "\n",
        "path = bfs(graph, start, end)\n",
        "if path:\n",
        "    print(f\"The path from {start} to {end} is: {' -> '.join(path)}\")\n",
        "else:\n",
        "    print(f\"No path found from {start} to {end}\")"
      ],
      "metadata": {
        "id": "ubKe4lDOnkpu",
        "outputId": "a01d8dba-8753-4ba4-edf2-c29defd920b4",
        "colab": {
          "base_uri": "https://localhost:8080/"
        }
      },
      "execution_count": null,
      "outputs": [
        {
          "output_type": "stream",
          "name": "stdout",
          "text": [
            "The path from Trivandrum to Kolkata is: Trivandrum -> TM -> GOA -> NAG -> JH -> KH -> HWH -> Kolkata\n"
          ]
        }
      ]
    }
  ]
}